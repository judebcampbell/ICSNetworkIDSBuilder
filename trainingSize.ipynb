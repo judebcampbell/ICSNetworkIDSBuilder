{
 "cells": [
  {
   "attachments": {},
   "cell_type": "markdown",
   "metadata": {},
   "source": [
    "# Evaluation of Training Data Size and Class Imbalance"
   ]
  },
  {
   "cell_type": "code",
   "execution_count": 14,
   "metadata": {},
   "outputs": [],
   "source": [
    "# Import statements\n",
    "import time\n",
    "\n",
    "import data_processing as dp \n",
    "import model_selection as ms \n",
    "import model_files as fm\n",
    "import graph_production as gp\n",
    "\n",
    "from scapy.all import *\n"
   ]
  },
  {
   "cell_type": "code",
   "execution_count": 7,
   "metadata": {},
   "outputs": [],
   "source": [
    "trainFile = rdpcap('data/timestamps/training45m.pcapng')\n",
    "labelFile = fm.toList('data/timestamps/training45mClass.txt') # generate target list"
   ]
  },
  {
   "cell_type": "code",
   "execution_count": 15,
   "metadata": {},
   "outputs": [
    {
     "ename": "NameError",
     "evalue": "name 'IP' is not defined",
     "output_type": "error",
     "traceback": [
      "\u001b[0;31m---------------------------------------------------------------------------\u001b[0m",
      "\u001b[0;31mNameError\u001b[0m                                 Traceback (most recent call last)",
      "Cell \u001b[0;32mIn[15], line 6\u001b[0m\n\u001b[1;32m      4\u001b[0m \u001b[39mfor\u001b[39;00m i \u001b[39min\u001b[39;00m \u001b[39mrange\u001b[39m(\u001b[39mlen\u001b[39m(size_times)):\n\u001b[1;32m      5\u001b[0m \tstart \u001b[39m=\u001b[39m time\u001b[39m.\u001b[39mprocess_time()\n\u001b[0;32m----> 6\u001b[0m \tdp\u001b[39m.\u001b[39;49mtimestamps(trainFile, labelFile, size_times[i])\n\u001b[1;32m      7\u001b[0m \tgeneration_time\u001b[39m.\u001b[39mappend(time\u001b[39m.\u001b[39mprocess_time()\u001b[39m-\u001b[39mstart)\n\u001b[1;32m      8\u001b[0m \t\u001b[39mprint\u001b[39m(\u001b[39m'\u001b[39m\u001b[39mTime Taken to generate Features:\u001b[39m\u001b[39m'\u001b[39m)\n",
      "File \u001b[0;32m~/Documents/GitHub/ICSNetworkIDSBuilder/data_processing.py:210\u001b[0m, in \u001b[0;36mtimestamps\u001b[0;34m(file, labels, frequency)\u001b[0m\n\u001b[1;32m    206\u001b[0m \tcounter \u001b[39m+\u001b[39m\u001b[39m=\u001b[39m \u001b[39m1\u001b[39m\n\u001b[1;32m    207\u001b[0m \t\u001b[39mcontinue\u001b[39;00m\n\u001b[0;32m--> 210\u001b[0m \u001b[39mif\u001b[39;00m IP \u001b[39min\u001b[39;00m file[counter]:\n\u001b[1;32m    211\u001b[0m \tpacket_type\u001b[39m.\u001b[39mappend(file[counter][\u001b[39m'\u001b[39m\u001b[39mIP\u001b[39m\u001b[39m'\u001b[39m]\u001b[39m.\u001b[39mproto)\n\u001b[1;32m    212\u001b[0m \t\u001b[39mif\u001b[39;00m TCP \u001b[39min\u001b[39;00m file[counter]:\n",
      "\u001b[0;31mNameError\u001b[0m: name 'IP' is not defined"
     ]
    }
   ],
   "source": [
    "size_times = [60, 45, 30, 15, 10, 5, 4, 2, 1, 0.5]\n",
    "generation_time = []\n",
    "\n",
    "for i in range(len(size_times)):\n",
    "\tstart = time.process_time()\n",
    "\tdp.timestamps(trainFile, labelFile, size_times[i])\n",
    "\tgeneration_time.append(time.process_time()-start)\n",
    "\tprint('Time Taken to generate Features:')\n",
    "\tgeneration_time[i]"
   ]
  }
 ],
 "metadata": {
  "kernelspec": {
   "display_name": "base",
   "language": "python",
   "name": "python3"
  },
  "language_info": {
   "codemirror_mode": {
    "name": "ipython",
    "version": 3
   },
   "file_extension": ".py",
   "mimetype": "text/x-python",
   "name": "python",
   "nbconvert_exporter": "python",
   "pygments_lexer": "ipython3",
   "version": "3.8.16"
  },
  "orig_nbformat": 4,
  "vscode": {
   "interpreter": {
    "hash": "40d3a090f54c6569ab1632332b64b2c03c39dcf918b08424e98f38b5ae0af88f"
   }
  }
 },
 "nbformat": 4,
 "nbformat_minor": 2
}
